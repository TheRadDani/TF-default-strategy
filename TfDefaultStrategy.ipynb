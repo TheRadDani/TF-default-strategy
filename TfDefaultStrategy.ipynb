{
  "nbformat": 4,
  "nbformat_minor": 0,
  "metadata": {
    "colab": {
      "provenance": [],
      "authorship_tag": "ABX9TyMDF8ZvIMh72a/z/9ti02lE",
      "include_colab_link": true
    },
    "kernelspec": {
      "name": "python3",
      "display_name": "Python 3"
    },
    "language_info": {
      "name": "python"
    },
    "accelerator": "GPU",
    "gpuClass": "standard"
  },
  "cells": [
    {
      "cell_type": "markdown",
      "metadata": {
        "id": "view-in-github",
        "colab_type": "text"
      },
      "source": [
        "<a href=\"https://colab.research.google.com/github/TheRadDani/TF-default-strategy/blob/main/TfDefaultStrategy.ipynb\" target=\"_parent\"><img src=\"https://colab.research.google.com/assets/colab-badge.svg\" alt=\"Open In Colab\"/></a>"
      ]
    },
    {
      "cell_type": "code",
      "execution_count": 3,
      "metadata": {
        "colab": {
          "base_uri": "https://localhost:8080/"
        },
        "id": "DF85GIFo09kP",
        "outputId": "cf68a0e9-ff76-402c-fdcc-503fbe4353cf"
      },
      "outputs": [
        {
          "output_type": "stream",
          "name": "stdout",
          "text": [
            "Epoch 1: Loss = 2.7783584594726562, Accuracy = 0.8604244589805603\n",
            "Epoch 2: Loss = 0.4168095886707306, Accuracy = 0.9084655046463013\n",
            "Epoch 3: Loss = 0.2855697572231293, Accuracy = 0.930420458316803\n",
            "Epoch 4: Loss = 0.23605339229106903, Accuracy = 0.9390324950218201\n",
            "Epoch 5: Loss = 0.20447565615177155, Accuracy = 0.9455457329750061\n",
            "Epoch 6: Loss = 0.1892833113670349, Accuracy = 0.9489772319793701\n",
            "Epoch 7: Loss = 0.16988526284694672, Accuracy = 0.9548407793045044\n",
            "Epoch 8: Loss = 0.16040684282779694, Accuracy = 0.9573394060134888\n",
            "Epoch 9: Loss = 0.1529911756515503, Accuracy = 0.9599047303199768\n",
            "Epoch 10: Loss = 0.1458587348461151, Accuracy = 0.9605876803398132\n"
          ]
        }
      ],
      "source": [
        "import tensorflow as tf\n",
        "import tensorflow_datasets as tfds\n",
        "\n",
        "# Load the MNIST dataset\n",
        "mnist_dataset = tfds.load(name='mnist', split='train', as_supervised=True)\n",
        "\n",
        "# Define the model\n",
        "model = tf.keras.models.Sequential([\n",
        "    tf.keras.layers.Flatten(input_shape=(28, 28)),\n",
        "    tf.keras.layers.Dense(128, activation='relu'),\n",
        "    tf.keras.layers.Dense(10, activation='softmax')\n",
        "])\n",
        "\n",
        "# Compile the model with a loss function, optimizer, and metrics\n",
        "model.compile(loss='sparse_categorical_crossentropy',\n",
        "              optimizer='adam',\n",
        "              metrics=['accuracy'])\n",
        "\n",
        "# Create a distribution strategy\n",
        "strategy = tf.distribute.get_strategy()\n",
        "\n",
        "# Define the batch size and number of epochs\n",
        "batch_size = 64\n",
        "num_epochs = 10\n",
        "\n",
        "# Create a distributed dataset from the MNIST dataset\n",
        "distributed_dataset = strategy.experimental_distribute_dataset(mnist_dataset.batch(batch_size))\n",
        "\n",
        "# Define a training step function that runs on each replica\n",
        "@tf.function\n",
        "def train_step(inputs):\n",
        "    features, labels = inputs\n",
        "    \n",
        "    with tf.GradientTape() as tape:\n",
        "        predictions = model(features, training=True)\n",
        "        loss = tf.reduce_mean(tf.keras.losses.sparse_categorical_crossentropy(labels, predictions))\n",
        "        \n",
        "    grads = tape.gradient(loss, model.trainable_variables)\n",
        "    optimizer.apply_gradients(zip(grads, model.trainable_variables))\n",
        "    \n",
        "    accuracy = tf.reduce_mean(tf.keras.metrics.sparse_categorical_accuracy(labels, predictions))\n",
        "    \n",
        "    return loss, accuracy\n",
        "\n",
        "optimizer = tf.keras.optimizers.Adam()\n",
        "\n",
        "# Define a distributed training loop\n",
        "for epoch in range(num_epochs):\n",
        "    epoch_loss = strategy.reduce(tf.distribute.ReduceOp.SUM, 0.0, axis=None)\n",
        "    epoch_accuracy = strategy.reduce(tf.distribute.ReduceOp.SUM, 0.0, axis=None)\n",
        "    \n",
        "    num_batches = 0\n",
        "    \n",
        "    for inputs in distributed_dataset:\n",
        "        per_replica_loss, per_replica_accuracy = strategy.run(train_step, args=(inputs,))\n",
        "        \n",
        "        epoch_loss += strategy.reduce(tf.distribute.ReduceOp.SUM, per_replica_loss, axis=None)\n",
        "        epoch_accuracy += strategy.reduce(tf.distribute.ReduceOp.SUM, per_replica_accuracy, axis=None)\n",
        "        \n",
        "        num_batches += 1\n",
        "    \n",
        "    epoch_loss /= num_batches\n",
        "    epoch_accuracy /= num_batches\n",
        "    \n",
        "    print(f\"Epoch {epoch + 1}: Loss = {epoch_loss}, Accuracy = {epoch_accuracy}\")\n"
      ]
    }
  ]
}